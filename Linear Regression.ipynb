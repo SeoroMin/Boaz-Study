{
 "cells": [
  {
   "cell_type": "markdown",
   "metadata": {},
   "source": [
    "# Univariate Regresssion"
   ]
  },
  {
   "cell_type": "code",
   "execution_count": 138,
   "metadata": {},
   "outputs": [],
   "source": [
    "from IPython.display import Image"
   ]
  },
  {
   "cell_type": "markdown",
   "metadata": {},
   "source": [
    "### Data Generation(Preparation)"
   ]
  },
  {
   "cell_type": "markdown",
   "metadata": {},
   "source": [
    "- 공부할 시간(X)에 따른 성적 데이터(Y)를 만들어보자."
   ]
  },
  {
   "cell_type": "code",
   "execution_count": 139,
   "metadata": {},
   "outputs": [],
   "source": [
    "X = [0, 1, 2, 3, 4, 5, 6, 7, 8, 9]\n",
    "Y = [1, 1, 2, 4, 5, 7, 8, 9, 9, 10]"
   ]
  },
  {
   "cell_type": "markdown",
   "metadata": {},
   "source": [
    "- X, Y 데이터를 2D 평면 상에 시각화"
   ]
  },
  {
   "cell_type": "code",
   "execution_count": 140,
   "metadata": {},
   "outputs": [
    {
     "data": {
      "image/png": "[encoded data removed]",
      "text/plain": [
       "<Figure size 432x288 with 1 Axes>"
      ]
     },
     "metadata": {
      "needs_background": "light"
     },
     "output_type": "display_data"
    }
   ],
   "source": [
    "import matplotlib.pyplot as plt\n",
    "plt.scatter(X, Y)\n",
    "plt.show()"
   ]
  },
  {
   "cell_type": "markdown",
   "metadata": {},
   "source": [
    "### Hypothesis Define(Model Define)"
   ]
  },
  {
   "cell_type": "markdown",
   "metadata": {},
   "source": [
    "- Linear Regression 시에 활용하는 f(x) = Wx + b에서 b가 없는 간단한 버전인 f(x) = Wx 라는 모델(가설)을 구현해보자"
   ]
  },
  {
   "cell_type": "code",
   "execution_count": 141,
   "metadata": {},
   "outputs": [
    {
     "name": "stdout",
     "output_type": "stream",
     "text": [
      "value of f(5) : 20\n",
      "value of w : 4\n"
     ]
    }
   ],
   "source": [
    "class H():\n",
    "  \n",
    "    def __init__(self, w): \n",
    "    # 모델의 파라미터(학습을 통해 최적화될 값) w를 인풋으로 받아 모델 만들기\n",
    "        self.w = w\n",
    "    \n",
    "    def forward(self, x):\n",
    "    # 인스턴스(샘플) x가 인풋으로 들어왔을 때 모델이 예측하는 y값을 리턴\n",
    "        return self.w * x\n",
    "    \n",
    "h = H(4) # f(x) = 4x 라는 모델 생성\n",
    "pred_y = h.forward(5) # x=5 라는 인스턴스(샘플)가 인풋으로 들어왔을 때 f(5) = 4 x 5 를 통해서 20 이 정상적으로 출력\n",
    "print('value of f(5) :', pred_y)\n",
    "print('value of w :', h.w) # 모델 h의 내부 파라미터를 출력했을 때 4가 정상적으로 출력"
   ]
  },
  {
   "cell_type": "markdown",
   "metadata": {},
   "source": [
    "### Cost Function Define(Loss Function Define)"
   ]
  },
  {
   "cell_type": "code",
   "execution_count": 142,
   "metadata": {},
   "outputs": [
    {
     "name": "stdout",
     "output_type": "stream",
     "text": [
      "cost value when w = 4 : 222.2\n",
      "cost value with better code structure : 222.2\n"
     ]
    }
   ],
   "source": [
    "def cost(h, X, Y):\n",
    "    error = 0\n",
    "    for i in range(len(X)):\n",
    "        error += (h.forward(X[i]) - Y[i])**2\n",
    "    error = error / len(X) # MSE\n",
    "    return error\n",
    "\n",
    "h = H(4) # 4x 다시 생성\n",
    "print('cost value when w = 4 :', cost(h, X, Y)) # f(x) = 4x 인 모델은 관측한 데이터셋에 대해서 222.2 라는 상당힌 큰 cost를 가짐.\n",
    "\n",
    "def better_cost(pred_y, true_y):\n",
    "  # 조금 더 나은 버전, 위에 있는 cost(h, X, Y)에서는 cost function 안에서 H(x)를 계산해야 하는 불편함 존재.\n",
    "  # 일반적으로 코드를 짤 때 cost function(loss function)들은 모델이 예측한 y 값들의 리스트와 실제 y 값들의 리스트만 받아서 계산하는 구조.\n",
    "  \n",
    "    error = 0\n",
    "    for i in range(len(X)):\n",
    "        error += (pred_y[i] - true_y[i])**2\n",
    "    error = error / len(X)\n",
    "    return error\n",
    "\n",
    "pred_y = [ h.forward(X[i]) for i in range(len(X)) ] # 모델 h를 통해서 각 x 인스턴스에 대한 y 값을 예측.\n",
    "print('cost value with better code structure :', better_cost(pred_y, Y)) # 위 결과와 같이 222.2 라는 값이 나오는 것을 확인."
   ]
  },
  {
   "cell_type": "markdown",
   "metadata": {},
   "source": [
    "### Cost surface Visualization"
   ]
  },
  {
   "cell_type": "markdown",
   "metadata": {},
   "source": [
    "- 위에서 w=4 인 경우에 대해서 cost를 확인해보았음. 이번엔 다양한 w에 따라서 cost 값이 어떻게 바뀌는지 확인해보자.\n",
    "- w = 1.25 정도 쯤에서 cost 값이 최소가 되는 듯한 양상을 보임."
   ]
  },
  {
   "cell_type": "code",
   "execution_count": 143,
   "metadata": {},
   "outputs": [
    {
     "name": "stdout",
     "output_type": "stream",
     "text": [
      "[-10.0, -9.5, -9.0, -8.5, -8.0, -7.5, -7.0, -6.5, -6.0, -5.5, -5.0, -4.5, -4.0, -3.5, -3.0, -2.5, -2.0, -1.5, -1.0, -0.5, 0.0, 0.5, 1.0, 1.5, 2.0, 2.5, 3.0, 3.5, 4.0, 4.5, 5.0, 5.5, 6.0, 6.5, 7.0, 7.5, 8.0, 8.5, 9.0, 9.5]\n",
      "[3582.2, 3269.825, 2971.7, 2687.825, 2418.2, 2162.825, 1921.7, 1694.825, 1482.2, 1283.825, 1099.7, 929.825, 774.2, 632.825, 505.7, 392.825, 294.2, 209.825, 139.7, 83.825, 42.2, 14.825, 1.7, 2.825, 18.2, 47.825, 91.7, 149.825, 222.2, 308.825, 409.7, 524.825, 654.2, 797.825, 955.7, 1127.825, 1314.2, 1514.825, 1729.7, 1958.825]\n"
     ]
    },
    {
     "data": {
      "text/plain": [
       "<matplotlib.collections.PathCollection at 0x2837a70ba20>"
      ]
     },
     "execution_count": 143,
     "metadata": {},
     "output_type": "execute_result"
    },
    {
     "data": {
      "image/png": "[encoded data removed]",
      "text/plain": [
       "<Figure size 720x360 with 1 Axes>"
      ]
     },
     "metadata": {
      "needs_background": "light"
     },
     "output_type": "display_data"
    }
   ],
   "source": [
    "list_w = []\n",
    "list_c = []\n",
    "for i in range(-20, 20):\n",
    "    w = i * 0.5\n",
    "    h = H(w)\n",
    "    c = cost(h, X, Y)\n",
    "    list_w.append(w)\n",
    "    list_c.append(c)\n",
    "    \n",
    "print(list_w) # w 값들이 잘 들어갔는지 확인.\n",
    "print(list_c) # c 값들이 잘 들어갔는지 확인.\n",
    "\n",
    "plt.figure(figsize=(10,5))\n",
    "plt.xlabel('w')\n",
    "plt.ylabel('cost')\n",
    "plt.scatter(list_w, list_c, s=3)"
   ]
  },
  {
   "cell_type": "markdown",
   "metadata": {},
   "source": [
    "## Gradient Descent Algorithm"
   ]
  },
  {
   "cell_type": "markdown",
   "metadata": {},
   "source": [
    "이제 특정 w 근방에서의 w에 대한 cost 의 편미분(지금은 변수가 하나라 그냥 미분과 다를바 없지만)을 구해보겠습니다.\n",
    "\n",
    "두가지 방식으로 그라디언트를 구해보자면,\n",
    "\n",
    "첫번째 방식은 수치해석적으로 w=4 인 지점과 w=4 + eps 인 지점에서의 cost 값을 각각 구한 뒤 두 값의 차이를 통해 그라이디언트를 구하는 방식이고\n",
    "\n",
    "두번째 방식은 cost function을 w로 편미분한 공식을 통해 바로 특정 w 에서의 그라디언트를 구하는 방식입니다."
   ]
  },
  {
   "cell_type": "markdown",
   "metadata": {},
   "source": [
    "### Compare two approach in order to compute Gradient (Analytic, Formula)"
   ]
  },
  {
   "cell_type": "code",
   "execution_count": 144,
   "metadata": {},
   "outputs": [
    {
     "name": "stdout",
     "output_type": "stream",
     "text": [
      "1.2105213157896242 0.43684210597565787 1.2105263157894737 0.43684210526315803\n"
     ]
    },
    {
     "data": {
      "text/plain": [
       "<matplotlib.legend.Legend at 0x2837a764e80>"
      ]
     },
     "execution_count": 144,
     "metadata": {},
     "output_type": "execute_result"
    },
    {
     "data": {
      "image/png": "[encoded data removed]",
      "text/plain": [
       "<Figure size 432x288 with 1 Axes>"
      ]
     },
     "metadata": {
      "needs_background": "light"
     },
     "output_type": "display_data"
    }
   ],
   "source": [
    "def cal_grad(w, cost): # 수치해석적 그라디언트 근사\n",
    "    h = H(w)\n",
    "    cost1 = cost(h, X, Y)\n",
    "    eps = 0.00001 \n",
    "    h = H(w+eps) # w에서 epsilon 만큼 떨어진 부분에서도 cost를 구해준다.\n",
    "    cost2 = cost(h, X, Y)\n",
    "    dcost = cost2 - cost1\n",
    "    dw = eps\n",
    "    grad = dcost / dw\n",
    "    return grad, (cost1+cost2)*0.5\n",
    "\n",
    "def cal_grad2(w, cost): # 편미분 공식에 바로 대입하여 그라디언트를 근사 \n",
    "    h = H(w)\n",
    "    grad = 0\n",
    "    for i in range(len(X)):\n",
    "        grad += 2 * (h.forward(X[i]) - Y[i]) * X[i]\n",
    "    grad = grad / len(X)\n",
    "    c = cost(h, X, Y)\n",
    "    return grad, c\n",
    "\n",
    "# 두 방식을 이용해서 w = 1.4 라는 지점에서 모델을 각각 초기화, 그 뒤 Gradient Descent Algorithm 을 통해 내려갔을 때 거의 같은 결과가 나오는지 확인해보자.\n",
    "w1 = 1.4\n",
    "w2 = 1.4\n",
    "lr = 0.01\n",
    "\n",
    "list_w1 = []\n",
    "list_c1 = []\n",
    "list_w2 = []\n",
    "list_c2 = []\n",
    "\n",
    "for i in range(100): # 총 100번의 Iteration(반복)을 통해서 학습을 진행.\n",
    "    grad, mean_cost = cal_grad(w1, cost)\n",
    "    grad2, mean_cost2 = cal_grad2(w2, cost)\n",
    "\n",
    "    w1 -= lr * grad\n",
    "    w2 -= lr * grad2\n",
    "    list_w1.append(w1)\n",
    "    list_w2.append(w2)\n",
    "    list_c1.append(mean_cost)\n",
    "    list_c2.append(mean_cost2)\n",
    "    \n",
    "print(w1, mean_cost, w2, mean_cost2) # 100번의 학습이 끝난 뒤, w1 과 w2 를 출력해보니 둘다 1.21이라는 비슷한 값으로 수렴.\n",
    "  \n",
    "# 매 Iteration에서의 w 값과 cost 값을 그래프 상에 찍어보면 둘이 거의 정확하게 같은 지점을 통과하므로 초록색 동그라미가 파란색 별표를 가리킴.\n",
    "plt.scatter(list_w1, list_c1, label='analytic', marker='*')\n",
    "plt.scatter(list_w2, list_c2, label='formula')\n",
    "plt.legend()\n"
   ]
  },
  {
   "cell_type": "markdown",
   "metadata": {},
   "source": [
    "### Compare Training process of Two Models Initialized from Different w value"
   ]
  },
  {
   "cell_type": "code",
   "execution_count": 145,
   "metadata": {},
   "outputs": [
    {
     "name": "stdout",
     "output_type": "stream",
     "text": [
      "1.2105263157894737 0.43684210526315803 1.2105263157894737 0.43684210526315803\n"
     ]
    },
    {
     "data": {
      "text/plain": [
       "<matplotlib.legend.Legend at 0x2837a7df4e0>"
      ]
     },
     "execution_count": 145,
     "metadata": {},
     "output_type": "execute_result"
    },
    {
     "data": {
      "image/png": "[encoded data removed]",
      "text/plain": [
       "<Figure size 432x288 with 1 Axes>"
      ]
     },
     "metadata": {
      "needs_background": "light"
     },
     "output_type": "display_data"
    }
   ],
   "source": [
    "# 편미분 공식을 활용해서 Gradient Descent를 진행하되 서로 다른 w 지점으로 초기화 되었을 때 학습 양상\n",
    "w1 = 1.4\n",
    "w2 = 1.1\n",
    "lr = 0.01\n",
    "\n",
    "list_w1 = []\n",
    "list_c1 = []\n",
    "list_w2 = []\n",
    "list_c2 = []\n",
    "\n",
    "for i in range(100): # 총 100번의 Iteration(반복)을 통해서 학습 진행\n",
    "    grad, mean_cost = cal_grad2(w1, cost)\n",
    "    grad2, mean_cost2 = cal_grad2(w2, cost)\n",
    "\n",
    "    w1 -= lr * grad\n",
    "    w2 -= lr * grad2\n",
    "    list_w1.append(w1)\n",
    "    list_w2.append(w2)\n",
    "    list_c1.append(mean_cost)\n",
    "    list_c2.append(mean_cost2)\n",
    "    \n",
    "print(w1, mean_cost, w2, mean_cost2) # 100번의 학습이 끝난 뒤에 w1 과 w2 를 출력해보니 둘다 1.21 정도로 비슷한 값으로 수렴\n",
    "  \n",
    "# 서로 다른 지점으로부터 시작하였더라도 학습이 진행됨에 따라 둘 다 같은 파라미터(w=1.21)로 수렴하는 양상을 확인.\n",
    "plt.scatter(list_w1, list_c1, label='start from w=1.4', marker='*')\n",
    "plt.scatter(list_w2, list_c2, label='start from w=1.1')\n",
    "plt.legend()"
   ]
  },
  {
   "cell_type": "code",
   "execution_count": null,
   "metadata": {},
   "outputs": [],
   "source": []
  },
  {
   "cell_type": "markdown",
   "metadata": {},
   "source": [
    "## Linear Regression with sklearn"
   ]
  },
  {
   "cell_type": "code",
   "execution_count": 146,
   "metadata": {},
   "outputs": [],
   "source": [
    "from sklearn.linear_model import LinearRegression"
   ]
  },
  {
   "cell_type": "code",
   "execution_count": 147,
   "metadata": {},
   "outputs": [],
   "source": [
    "X = 2 * np.random.rand(100, 1)\n",
    "y = 4 + 3 * X + np.random.randn(100, 1)"
   ]
  },
  {
   "cell_type": "code",
   "execution_count": 148,
   "metadata": {},
   "outputs": [
    {
     "data": {
      "image/png": "[encoded data removed]",
      "text/plain": [
       "<Figure size 432x288 with 1 Axes>"
      ]
     },
     "metadata": {
      "needs_background": "light"
     },
     "output_type": "display_data"
    }
   ],
   "source": [
    "plt.plot(X, y, \"b.\")\n",
    "plt.xlabel(\"$x_1$\", fontsize=18)\n",
    "plt.ylabel(\"$y$\", rotation=0, fontsize=18)\n",
    "plt.axis([0, 2, 0, 15])\n",
    "plt.show()"
   ]
  },
  {
   "cell_type": "code",
   "execution_count": 149,
   "metadata": {},
   "outputs": [
    {
     "data": {
      "text/plain": [
       "LinearRegression()"
      ]
     },
     "execution_count": 149,
     "metadata": {},
     "output_type": "execute_result"
    }
   ],
   "source": [
    "lin_reg = LinearRegression()\n",
    "lin_reg.fit(X, y)"
   ]
  },
  {
   "cell_type": "code",
   "execution_count": 150,
   "metadata": {},
   "outputs": [
    {
     "data": {
      "text/plain": [
       "(array([3.88388119]), array([[3.11349609]]))"
      ]
     },
     "execution_count": 150,
     "metadata": {},
     "output_type": "execute_result"
    }
   ],
   "source": [
    "# 절편, 기울기\n",
    "lin_reg.intercept_, lin_reg.coef_"
   ]
  },
  {
   "cell_type": "code",
   "execution_count": 151,
   "metadata": {},
   "outputs": [
    {
     "data": {
      "text/plain": [
       "array([[ 3.88388119],\n",
       "       [10.11087336]])"
      ]
     },
     "execution_count": 151,
     "metadata": {},
     "output_type": "execute_result"
    }
   ],
   "source": [
    "X_new = np.array([[0], [2]])\n",
    "lin_reg.predict(X_new)"
   ]
  },
  {
   "cell_type": "code",
   "execution_count": null,
   "metadata": {},
   "outputs": [],
   "source": []
  },
  {
   "cell_type": "markdown",
   "metadata": {},
   "source": [
    "### Linear Regression with Pytorch"
   ]
  },
  {
   "cell_type": "code",
   "execution_count": 152,
   "metadata": {},
   "outputs": [],
   "source": [
    "import torch\n",
    "import torch.nn as nn\n",
    "import torch.nn.functional as F"
   ]
  },
  {
   "cell_type": "code",
   "execution_count": 153,
   "metadata": {},
   "outputs": [
    {
     "data": {
      "text/plain": [
       "'1.9.0+cpu'"
      ]
     },
     "execution_count": 153,
     "metadata": {},
     "output_type": "execute_result"
    }
   ],
   "source": [
    "torch.__version__"
   ]
  },
  {
   "cell_type": "code",
   "execution_count": 154,
   "metadata": {},
   "outputs": [
    {
     "data": {
      "text/plain": [
       "<torch._C.Generator at 0x2836c70f4e0>"
      ]
     },
     "execution_count": 154,
     "metadata": {},
     "output_type": "execute_result"
    }
   ],
   "source": [
    "torch.manual_seed(1)"
   ]
  },
  {
   "cell_type": "code",
   "execution_count": 155,
   "metadata": {},
   "outputs": [],
   "source": [
    "# 데이터\n",
    "x_train = torch.FloatTensor([[1], [2], [3]])\n",
    "y_train = torch.FloatTensor([[2], [4], [6]])"
   ]
  },
  {
   "cell_type": "code",
   "execution_count": 156,
   "metadata": {},
   "outputs": [],
   "source": [
    "class LinearRegressionModel(nn.Module): # torch.nn.Module을 상속받는 파이썬 클래스\n",
    "    def __init__(self): #\n",
    "        super().__init__()\n",
    "        self.linear = nn.Linear(1, 1) # 단순 선형 회귀이므로 input_dim=1, output_dim=1.\n",
    "\n",
    "    def forward(self, x):\n",
    "        return self.linear(x)"
   ]
  },
  {
   "cell_type": "code",
   "execution_count": 157,
   "metadata": {},
   "outputs": [],
   "source": [
    "model = LinearRegressionModel()"
   ]
  },
  {
   "cell_type": "code",
   "execution_count": 158,
   "metadata": {},
   "outputs": [],
   "source": [
    "# optimizer 설정. 경사 하강법 SGD를 사용하고 learning rate를 의미하는 lr은 0.01\n",
    "optimizer = torch.optim.SGD(model.parameters(), lr=0.01) "
   ]
  },
  {
   "cell_type": "code",
   "execution_count": 159,
   "metadata": {},
   "outputs": [
    {
     "name": "stdout",
     "output_type": "stream",
     "text": [
      "Epoch    0/2000 Cost: 13.103541\n",
      "Epoch  100/2000 Cost: 0.002791\n",
      "Epoch  200/2000 Cost: 0.001724\n",
      "Epoch  300/2000 Cost: 0.001066\n",
      "Epoch  400/2000 Cost: 0.000658\n",
      "Epoch  500/2000 Cost: 0.000407\n",
      "Epoch  600/2000 Cost: 0.000251\n",
      "Epoch  700/2000 Cost: 0.000155\n",
      "Epoch  800/2000 Cost: 0.000096\n",
      "Epoch  900/2000 Cost: 0.000059\n",
      "Epoch 1000/2000 Cost: 0.000037\n",
      "Epoch 1100/2000 Cost: 0.000023\n",
      "Epoch 1200/2000 Cost: 0.000014\n",
      "Epoch 1300/2000 Cost: 0.000009\n",
      "Epoch 1400/2000 Cost: 0.000005\n",
      "Epoch 1500/2000 Cost: 0.000003\n",
      "Epoch 1600/2000 Cost: 0.000002\n",
      "Epoch 1700/2000 Cost: 0.000001\n",
      "Epoch 1800/2000 Cost: 0.000001\n",
      "Epoch 1900/2000 Cost: 0.000000\n",
      "Epoch 2000/2000 Cost: 0.000000\n"
     ]
    }
   ],
   "source": [
    "# 전체 훈련 데이터에 대해 경사 하강법을 2,000회 반복\n",
    "nb_epochs = 2000\n",
    "for epoch in range(nb_epochs+1):\n",
    "\n",
    "    # H(x) 계산\n",
    "    prediction = model(x_train)\n",
    "\n",
    "    # cost 계산\n",
    "    cost = F.mse_loss(prediction, y_train) # <== 파이토치에서 제공하는 평균 제곱 오차 함수\n",
    "\n",
    "    # cost로 H(x) 개선하는 부분\n",
    "    # gradient를 0으로 초기화\n",
    "    optimizer.zero_grad()\n",
    "    # 비용 함수를 미분하여 gradient 계산\n",
    "    cost.backward() # backward 연산\n",
    "    # W와 b를 업데이트\n",
    "    optimizer.step()\n",
    "\n",
    "    if epoch % 100 == 0:\n",
    "    # 100번마다 로그 출력\n",
    "      print('Epoch {:4d}/{} Cost: {:.6f}'.format(\n",
    "          epoch, nb_epochs, cost.item()\n",
    "      ))"
   ]
  },
  {
   "cell_type": "markdown",
   "metadata": {},
   "source": [
    "### Multiple Linear regression"
   ]
  },
  {
   "cell_type": "code",
   "execution_count": 160,
   "metadata": {},
   "outputs": [],
   "source": [
    "# 데이터\n",
    "x_train = torch.FloatTensor([[73, 80, 75],\n",
    "                             [93, 88, 93],\n",
    "                             [89, 91, 90],\n",
    "                             [96, 98, 100],\n",
    "                             [73, 66, 70]])\n",
    "y_train = torch.FloatTensor([[152], [185], [180], [196], [142]])"
   ]
  },
  {
   "cell_type": "code",
   "execution_count": 161,
   "metadata": {},
   "outputs": [],
   "source": [
    "class MultivariateLinearRegressionModel(nn.Module):\n",
    "    def __init__(self):\n",
    "        super().__init__()\n",
    "        self.linear = nn.Linear(3, 1) # 다중 선형 회귀이므로 input_dim=3, output_dim=1.\n",
    "\n",
    "    def forward(self, x):\n",
    "        return self.linear(x)"
   ]
  },
  {
   "cell_type": "code",
   "execution_count": 162,
   "metadata": {},
   "outputs": [],
   "source": [
    "model = MultivariateLinearRegressionModel()"
   ]
  },
  {
   "cell_type": "code",
   "execution_count": 163,
   "metadata": {},
   "outputs": [],
   "source": [
    "optimizer = torch.optim.SGD(model.parameters(), lr=1e-5) "
   ]
  },
  {
   "cell_type": "code",
   "execution_count": 164,
   "metadata": {},
   "outputs": [
    {
     "name": "stdout",
     "output_type": "stream",
     "text": [
      "Epoch    0/2000 Cost: 42134.707031\n",
      "Epoch  100/2000 Cost: 5.960053\n",
      "Epoch  200/2000 Cost: 5.654707\n",
      "Epoch  300/2000 Cost: 5.365413\n",
      "Epoch  400/2000 Cost: 5.091429\n",
      "Epoch  500/2000 Cost: 4.831834\n",
      "Epoch  600/2000 Cost: 4.585997\n",
      "Epoch  700/2000 Cost: 4.353075\n",
      "Epoch  800/2000 Cost: 4.132411\n",
      "Epoch  900/2000 Cost: 3.923455\n",
      "Epoch 1000/2000 Cost: 3.725502\n",
      "Epoch 1100/2000 Cost: 3.537972\n",
      "Epoch 1200/2000 Cost: 3.360326\n",
      "Epoch 1300/2000 Cost: 3.192056\n",
      "Epoch 1400/2000 Cost: 3.032674\n",
      "Epoch 1500/2000 Cost: 2.881700\n",
      "Epoch 1600/2000 Cost: 2.738672\n",
      "Epoch 1700/2000 Cost: 2.603201\n",
      "Epoch 1800/2000 Cost: 2.474846\n",
      "Epoch 1900/2000 Cost: 2.353286\n",
      "Epoch 2000/2000 Cost: 2.238110\n"
     ]
    }
   ],
   "source": [
    "nb_epochs = 2000\n",
    "for epoch in range(nb_epochs+1):\n",
    "\n",
    "    # H(x) 계산\n",
    "    prediction = model(x_train)\n",
    "    # model(x_train)은 model.forward(x_train)와 동일함.\n",
    "\n",
    "    # cost 계산\n",
    "    cost = F.mse_loss(prediction, y_train) # <== 파이토치에서 제공하는 평균 제곱 오차 함수\n",
    "\n",
    "    # cost로 H(x) 개선하는 부분\n",
    "    # gradient를 0으로 초기화\n",
    "    optimizer.zero_grad()\n",
    "    # 비용 함수를 미분하여 gradient 계산\n",
    "    cost.backward()\n",
    "    # W와 b를 업데이트\n",
    "    optimizer.step()\n",
    "\n",
    "    if epoch % 100 == 0:\n",
    "    # 100번마다 로그 출력\n",
    "      print('Epoch {:4d}/{} Cost: {:.6f}'.format(\n",
    "          epoch, nb_epochs, cost.item()\n",
    "      ))"
   ]
  },
  {
   "cell_type": "markdown",
   "metadata": {},
   "source": [
    "### Mini Batch and Batch Size"
   ]
  },
  {
   "cell_type": "code",
   "execution_count": 165,
   "metadata": {},
   "outputs": [],
   "source": [
    "x_train = torch.FloatTensor([[73, 80, 75],\n",
    "                             [93, 88, 93],\n",
    "                             [89, 91, 90],\n",
    "                             [96, 98, 100],\n",
    "                             [73, 66, 70]])\n",
    "y_train = torch.FloatTensor([[152], [185], [180], [196], [142]])"
   ]
  },
  {
   "cell_type": "code",
   "execution_count": 166,
   "metadata": {},
   "outputs": [
    {
     "data": {
      "image/png": "[encoded data removed]",
      "text/plain": [
       "<IPython.core.display.Image object>"
      ]
     },
     "execution_count": 166,
     "metadata": {},
     "output_type": "execute_result"
    }
   ],
   "source": [
    "from IPython.display import Image\n",
    " \n",
    "Image(\"iteration.png\")"
   ]
  },
  {
   "cell_type": "code",
   "execution_count": 167,
   "metadata": {},
   "outputs": [],
   "source": [
    "from torch.utils.data import TensorDataset # 텐서데이터셋\n",
    "from torch.utils.data import DataLoader # 데이터로더"
   ]
  },
  {
   "cell_type": "code",
   "execution_count": 168,
   "metadata": {},
   "outputs": [],
   "source": [
    "x_train  =  torch.FloatTensor([[73,  80,  75], \n",
    "                               [93,  88,  93], \n",
    "                               [89,  91,  90], \n",
    "                               [96,  98,  100],   \n",
    "                               [73,  66,  70]])  \n",
    "y_train  =  torch.FloatTensor([[152],  [185],  [180],  [196],  [142]])"
   ]
  },
  {
   "cell_type": "code",
   "execution_count": 169,
   "metadata": {},
   "outputs": [],
   "source": [
    "dataset = TensorDataset(x_train, y_train)"
   ]
  },
  {
   "cell_type": "code",
   "execution_count": 170,
   "metadata": {},
   "outputs": [],
   "source": [
    "dataloader = DataLoader(dataset, batch_size=2, shuffle=True)"
   ]
  },
  {
   "cell_type": "code",
   "execution_count": 171,
   "metadata": {},
   "outputs": [],
   "source": [
    "model = nn.Linear(3,1)\n",
    "optimizer = torch.optim.SGD(model.parameters(), lr=1e-5) "
   ]
  },
  {
   "cell_type": "code",
   "execution_count": 172,
   "metadata": {},
   "outputs": [
    {
     "name": "stdout",
     "output_type": "stream",
     "text": [
      "Epoch    0/20 Batch 1/3 Cost: 26838.554688\n",
      "Epoch    0/20 Batch 2/3 Cost: 4949.356934\n",
      "Epoch    0/20 Batch 3/3 Cost: 1217.418579\n",
      "Epoch    1/20 Batch 1/3 Cost: 874.723633\n",
      "Epoch    1/20 Batch 2/3 Cost: 256.657257\n",
      "Epoch    1/20 Batch 3/3 Cost: 24.682867\n",
      "Epoch    2/20 Batch 1/3 Cost: 45.678806\n",
      "Epoch    2/20 Batch 2/3 Cost: 5.590558\n",
      "Epoch    2/20 Batch 3/3 Cost: 27.639938\n",
      "Epoch    3/20 Batch 1/3 Cost: 8.685357\n",
      "Epoch    3/20 Batch 2/3 Cost: 3.939066\n",
      "Epoch    3/20 Batch 3/3 Cost: 2.802620\n",
      "Epoch    4/20 Batch 1/3 Cost: 6.150103\n",
      "Epoch    4/20 Batch 2/3 Cost: 7.124786\n",
      "Epoch    4/20 Batch 3/3 Cost: 2.149121\n",
      "Epoch    5/20 Batch 1/3 Cost: 1.789197\n",
      "Epoch    5/20 Batch 2/3 Cost: 15.624210\n",
      "Epoch    5/20 Batch 3/3 Cost: 3.540388\n",
      "Epoch    6/20 Batch 1/3 Cost: 5.700303\n",
      "Epoch    6/20 Batch 2/3 Cost: 6.880760\n",
      "Epoch    6/20 Batch 3/3 Cost: 2.429880\n",
      "Epoch    7/20 Batch 1/3 Cost: 7.628947\n",
      "Epoch    7/20 Batch 2/3 Cost: 3.857710\n",
      "Epoch    7/20 Batch 3/3 Cost: 5.840229\n",
      "Epoch    8/20 Batch 1/3 Cost: 5.205487\n",
      "Epoch    8/20 Batch 2/3 Cost: 2.935290\n",
      "Epoch    8/20 Batch 3/3 Cost: 16.427006\n",
      "Epoch    9/20 Batch 1/3 Cost: 3.824505\n",
      "Epoch    9/20 Batch 2/3 Cost: 6.187527\n",
      "Epoch    9/20 Batch 3/3 Cost: 7.496429\n",
      "Epoch   10/20 Batch 1/3 Cost: 4.572887\n",
      "Epoch   10/20 Batch 2/3 Cost: 6.737060\n",
      "Epoch   10/20 Batch 3/3 Cost: 5.895672\n",
      "Epoch   11/20 Batch 1/3 Cost: 1.443216\n",
      "Epoch   11/20 Batch 2/3 Cost: 9.311105\n",
      "Epoch   11/20 Batch 3/3 Cost: 8.005715\n",
      "Epoch   12/20 Batch 1/3 Cost: 6.552178\n",
      "Epoch   12/20 Batch 2/3 Cost: 3.549904\n",
      "Epoch   12/20 Batch 3/3 Cost: 7.657715\n",
      "Epoch   13/20 Batch 1/3 Cost: 7.357927\n",
      "Epoch   13/20 Batch 2/3 Cost: 3.529342\n",
      "Epoch   13/20 Batch 3/3 Cost: 10.374599\n",
      "Epoch   14/20 Batch 1/3 Cost: 3.878362\n",
      "Epoch   14/20 Batch 2/3 Cost: 5.393213\n",
      "Epoch   14/20 Batch 3/3 Cost: 13.809702\n",
      "Epoch   15/20 Batch 1/3 Cost: 5.501553\n",
      "Epoch   15/20 Batch 2/3 Cost: 4.437747\n",
      "Epoch   15/20 Batch 3/3 Cost: 13.423676\n",
      "Epoch   16/20 Batch 1/3 Cost: 4.113708\n",
      "Epoch   16/20 Batch 2/3 Cost: 6.071901\n",
      "Epoch   16/20 Batch 3/3 Cost: 7.803999\n",
      "Epoch   17/20 Batch 1/3 Cost: 2.076523\n",
      "Epoch   17/20 Batch 2/3 Cost: 14.499230\n",
      "Epoch   17/20 Batch 3/3 Cost: 4.352218\n",
      "Epoch   18/20 Batch 1/3 Cost: 7.422428\n",
      "Epoch   18/20 Batch 2/3 Cost: 3.180298\n",
      "Epoch   18/20 Batch 3/3 Cost: 10.140516\n",
      "Epoch   19/20 Batch 1/3 Cost: 5.294728\n",
      "Epoch   19/20 Batch 2/3 Cost: 6.063771\n",
      "Epoch   19/20 Batch 3/3 Cost: 4.648493\n",
      "Epoch   20/20 Batch 1/3 Cost: 7.303805\n",
      "Epoch   20/20 Batch 2/3 Cost: 3.836156\n",
      "Epoch   20/20 Batch 3/3 Cost: 5.569603\n"
     ]
    }
   ],
   "source": [
    "nb_epochs = 20\n",
    "for epoch in range(nb_epochs + 1):\n",
    "  for batch_idx, samples in enumerate(dataloader):\n",
    "    # print(batch_idx)\n",
    "    # print(samples)\n",
    "    x_train, y_train = samples\n",
    "    # H(x) 계산\n",
    "    prediction = model(x_train)\n",
    "\n",
    "    # cost 계산\n",
    "    cost = F.mse_loss(prediction, y_train)\n",
    "\n",
    "    # cost로 H(x) 계산\n",
    "    optimizer.zero_grad()\n",
    "    cost.backward()\n",
    "    optimizer.step()\n",
    "\n",
    "    print('Epoch {:4d}/{} Batch {}/{} Cost: {:.6f}'.format(\n",
    "        epoch, nb_epochs, batch_idx+1, len(dataloader),\n",
    "        cost.item()\n",
    "        ))"
   ]
  },
  {
   "cell_type": "code",
   "execution_count": 173,
   "metadata": {},
   "outputs": [
    {
     "name": "stdout",
     "output_type": "stream",
     "text": [
      "훈련 후 입력이 73, 80, 75일 때의 예측값 : tensor([[153.5408]], grad_fn=<AddmmBackward>)\n"
     ]
    }
   ],
   "source": [
    "# 임의의 입력 [73, 80, 75]를 선언\n",
    "new_var =  torch.FloatTensor([[73, 80, 75]]) \n",
    "# 입력한 값 [73, 80, 75]에 대해서 예측값 y를 리턴받아서 pred_y에 저장\n",
    "pred_y = model(new_var) \n",
    "print(\"훈련 후 입력이 73, 80, 75일 때의 예측값 :\", pred_y)"
   ]
  },
  {
   "cell_type": "markdown",
   "metadata": {},
   "source": [
    "### Custom Dataset"
   ]
  },
  {
   "cell_type": "code",
   "execution_count": 174,
   "metadata": {},
   "outputs": [],
   "source": [
    "from torch.utils.data import Dataset\n",
    "from torch.utils.data import DataLoader"
   ]
  },
  {
   "cell_type": "code",
   "execution_count": 175,
   "metadata": {},
   "outputs": [],
   "source": [
    "# Dataset 상속\n",
    "class CustomDataset(Dataset): \n",
    "  def __init__(self):\n",
    "    self.x_data = [[73, 80, 75],\n",
    "                   [93, 88, 93],\n",
    "                   [89, 91, 90],\n",
    "                   [96, 98, 100],\n",
    "                   [73, 66, 70]]\n",
    "    self.y_data = [[152], [185], [180], [196], [142]]\n",
    "\n",
    "  # 총 데이터의 개수를 리턴\n",
    "  def __len__(self): \n",
    "    return len(self.x_data)\n",
    "\n",
    "  # 인덱스를 입력받아 그에 맵핑되는 입출력 데이터를 파이토치의 Tensor 형태로 리턴\n",
    "  def __getitem__(self, idx): \n",
    "    x = torch.FloatTensor(self.x_data[idx])\n",
    "    y = torch.FloatTensor(self.y_data[idx])\n",
    "    return x, y"
   ]
  },
  {
   "cell_type": "code",
   "execution_count": 176,
   "metadata": {},
   "outputs": [],
   "source": [
    "dataset = CustomDataset()\n",
    "dataloader = DataLoader(dataset, batch_size=2, shuffle=True)"
   ]
  },
  {
   "cell_type": "code",
   "execution_count": 177,
   "metadata": {},
   "outputs": [],
   "source": [
    "model = torch.nn.Linear(3,1)\n",
    "optimizer = torch.optim.SGD(model.parameters(), lr=1e-5) "
   ]
  },
  {
   "cell_type": "code",
   "execution_count": 178,
   "metadata": {},
   "outputs": [
    {
     "name": "stdout",
     "output_type": "stream",
     "text": [
      "Epoch    0/20 Batch 1/3 Cost: 54524.218750\n",
      "Epoch    0/20 Batch 2/3 Cost: 8945.384766\n",
      "Epoch    0/20 Batch 3/3 Cost: 2403.548828\n",
      "Epoch    1/20 Batch 1/3 Cost: 1564.037354\n",
      "Epoch    1/20 Batch 2/3 Cost: 550.309875\n",
      "Epoch    1/20 Batch 3/3 Cost: 128.874252\n",
      "Epoch    2/20 Batch 1/3 Cost: 35.747013\n",
      "Epoch    2/20 Batch 2/3 Cost: 24.368628\n",
      "Epoch    2/20 Batch 3/3 Cost: 13.028249\n",
      "Epoch    3/20 Batch 1/3 Cost: 0.577810\n",
      "Epoch    3/20 Batch 2/3 Cost: 5.028281\n",
      "Epoch    3/20 Batch 3/3 Cost: 1.949444\n",
      "Epoch    4/20 Batch 1/3 Cost: 2.790065\n",
      "Epoch    4/20 Batch 2/3 Cost: 4.539881\n",
      "Epoch    4/20 Batch 3/3 Cost: 1.471585\n",
      "Epoch    5/20 Batch 1/3 Cost: 0.735304\n",
      "Epoch    5/20 Batch 2/3 Cost: 2.351943\n",
      "Epoch    5/20 Batch 3/3 Cost: 7.989922\n",
      "Epoch    6/20 Batch 1/3 Cost: 2.292079\n",
      "Epoch    6/20 Batch 2/3 Cost: 3.429396\n",
      "Epoch    6/20 Batch 3/3 Cost: 0.660007\n",
      "Epoch    7/20 Batch 1/3 Cost: 1.045044\n",
      "Epoch    7/20 Batch 2/3 Cost: 4.478187\n",
      "Epoch    7/20 Batch 3/3 Cost: 0.089189\n",
      "Epoch    8/20 Batch 1/3 Cost: 0.152499\n",
      "Epoch    8/20 Batch 2/3 Cost: 4.536362\n",
      "Epoch    8/20 Batch 3/3 Cost: 1.777561\n",
      "Epoch    9/20 Batch 1/3 Cost: 2.310009\n",
      "Epoch    9/20 Batch 2/3 Cost: 4.838419\n",
      "Epoch    9/20 Batch 3/3 Cost: 0.447284\n",
      "Epoch   10/20 Batch 1/3 Cost: 1.091376\n",
      "Epoch   10/20 Batch 2/3 Cost: 6.368459\n",
      "Epoch   10/20 Batch 3/3 Cost: 0.283590\n",
      "Epoch   11/20 Batch 1/3 Cost: 3.047718\n",
      "Epoch   11/20 Batch 2/3 Cost: 2.587987\n",
      "Epoch   11/20 Batch 3/3 Cost: 0.074560\n",
      "Epoch   12/20 Batch 1/3 Cost: 4.470507\n",
      "Epoch   12/20 Batch 2/3 Cost: 0.923745\n",
      "Epoch   12/20 Batch 3/3 Cost: 0.132706\n",
      "Epoch   13/20 Batch 1/3 Cost: 1.450773\n",
      "Epoch   13/20 Batch 2/3 Cost: 4.055173\n",
      "Epoch   13/20 Batch 3/3 Cost: 1.431692\n",
      "Epoch   14/20 Batch 1/3 Cost: 3.468175\n",
      "Epoch   14/20 Batch 2/3 Cost: 3.627177\n",
      "Epoch   14/20 Batch 3/3 Cost: 1.006021\n",
      "Epoch   15/20 Batch 1/3 Cost: 2.649999\n",
      "Epoch   15/20 Batch 2/3 Cost: 0.482007\n",
      "Epoch   15/20 Batch 3/3 Cost: 5.925796\n",
      "Epoch   16/20 Batch 1/3 Cost: 1.667926\n",
      "Epoch   16/20 Batch 2/3 Cost: 3.310731\n",
      "Epoch   16/20 Batch 3/3 Cost: 4.122506\n",
      "Epoch   17/20 Batch 1/3 Cost: 4.719289\n",
      "Epoch   17/20 Batch 2/3 Cost: 2.107975\n",
      "Epoch   17/20 Batch 3/3 Cost: 0.143212\n",
      "Epoch   18/20 Batch 1/3 Cost: 5.055257\n",
      "Epoch   18/20 Batch 2/3 Cost: 0.843501\n",
      "Epoch   18/20 Batch 3/3 Cost: 3.317149\n",
      "Epoch   19/20 Batch 1/3 Cost: 5.118366\n",
      "Epoch   19/20 Batch 2/3 Cost: 1.420750\n",
      "Epoch   19/20 Batch 3/3 Cost: 0.311959\n",
      "Epoch   20/20 Batch 1/3 Cost: 4.522241\n",
      "Epoch   20/20 Batch 2/3 Cost: 1.014165\n",
      "Epoch   20/20 Batch 3/3 Cost: 0.091251\n"
     ]
    }
   ],
   "source": [
    "nb_epochs = 20\n",
    "for epoch in range(nb_epochs + 1):\n",
    "  for batch_idx, samples in enumerate(dataloader):\n",
    "    # print(batch_idx)\n",
    "    # print(samples)\n",
    "    x_train, y_train = samples\n",
    "    # H(x) 계산\n",
    "    prediction = model(x_train)\n",
    "\n",
    "    # cost 계산\n",
    "    cost = F.mse_loss(prediction, y_train)\n",
    "\n",
    "    # cost로 H(x) 계산\n",
    "    optimizer.zero_grad()\n",
    "    cost.backward()\n",
    "    optimizer.step()\n",
    "\n",
    "    print('Epoch {:4d}/{} Batch {}/{} Cost: {:.6f}'.format(\n",
    "        epoch, nb_epochs, batch_idx+1, len(dataloader),\n",
    "        cost.item()\n",
    "        ))"
   ]
  },
  {
   "cell_type": "code",
   "execution_count": 179,
   "metadata": {},
   "outputs": [
    {
     "name": "stdout",
     "output_type": "stream",
     "text": [
      "훈련 후 입력이 73, 80, 75일 때의 예측값 : tensor([[152.1972]], grad_fn=<AddmmBackward>)\n"
     ]
    }
   ],
   "source": [
    "# 임의의 입력 [73, 80, 75]를 선언\n",
    "new_var =  torch.FloatTensor([[73, 80, 75]]) \n",
    "# 입력한 값 [73, 80, 75]에 대해서 예측값 y를 리턴받아서 pred_y에 저장\n",
    "pred_y = model(new_var) \n",
    "print(\"훈련 후 입력이 73, 80, 75일 때의 예측값 :\", pred_y)"
   ]
  },
  {
   "cell_type": "code",
   "execution_count": null,
   "metadata": {},
   "outputs": [],
   "source": []
  }
 ],
 "metadata": {
  "kernelspec": {
   "display_name": "Python 3",
   "language": "python",
   "name": "python3"
  },
  "language_info": {
   "codemirror_mode": {
    "name": "ipython",
    "version": 3
   },
   "file_extension": ".py",
   "mimetype": "text/x-python",
   "name": "python",
   "nbconvert_exporter": "python",
   "pygments_lexer": "ipython3",
   "version": "3.6.9"
  }
 },
 "nbformat": 4,
 "nbformat_minor": 2
}
